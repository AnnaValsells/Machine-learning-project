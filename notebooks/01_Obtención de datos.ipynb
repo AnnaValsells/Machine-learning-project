{
 "cells": [
  {
   "cell_type": "markdown",
   "metadata": {},
   "source": [
    "### Obtención de Datos\n",
    "\n",
    "Para abordar el problema de predecir la duración de la estancia de los perros en un centro de rescate, se ha utilizado un conjunto de datos proveniente del estudio \"What’s in a Name? Effect of Breed Perceptions & Labeling on Attractiveness, Adoptions & Length of Stay for Pit-Bull-Type Dogs\" realizado por Lisa M. Gunter, Rebecca T. Barber y Clive D. L. Wynn en 2018. Este estudio se encuentra disponible en el Harvard Dataverse bajo el DOI: https://doi.org/10.7910/DVN/CSVGZO.\n",
    "\n",
    "El conjunto de datos incluye información detallada sobre perros tipo Pit-Bull y otros perros en centros de rescate, enfocándose en cómo las percepciones de la raza y el etiquetado afectan la atractividad, las adopciones y la duración de la estancia de estos animales. La relevancia de estos datos para nuestro proyecto es evidente, ya que proporcionan una rica fuente de características que pueden influir en la duración de la estancia de un perro en el refugio.\n",
    "\n",
    "#### Descripción del Conjunto de Datos\n",
    "\n",
    "El dataset contiene varias columnas que representan diferentes aspectos de cada perro, como:\n",
    "\n",
    "- intake_date: Fecha de llegada al centro de rescate.\n",
    "- animal_id: Identificador único para cada animal.\n",
    "- intake_type: Motivo por el cual se ha recogido al perro.\n",
    "- intake_subtype: Motivo del abandono.\n",
    "- outcome_date: Fecha de adopción y/o salida del centro.\n",
    "- outcome_type: Motivo de salida del centro.\n",
    "- primary_breed: Raza del perro.\n",
    "- secondary_breed: Segunda raza para los perros mestizos.\n",
    "- years_old: Años de vida del animal.\n",
    "- months_old: Meses de vida del animal.\n",
    "- OutcomeGroup: Grupo de salida (Adopt/Live Exit - Lost/Found/Missing - Euthanized/Dead).\n",
    "- Breed: Igual que primary_breed pero con los nombres oficiales del Kennel Club Americano.\n",
    "- PitBullType: Si es de raza potencialmente peligrosa, llamados tipo Pitbull(Si - No).\n",
    "- PitBullExpanded: Si la secondary_breed es tipo Pitbull (Si-No).\n",
    "- AKC: Grupo al que pertenece la raza según el Kennel Club Americano (7 Categorías).\n",
    "- AKC_Extended: Mismas categorías anteriores separando el grupo tipo terrier según si es PitBull o no.\n",
    "- KennelCardBreed: El animal tiene o no la etiqueta de la raza en la perrera.\n",
    "- LOS: Duración de la estancia (Length of Stay).\n",
    "- AgeGroup: Rango de edad al que pertenece el animal (5 Grupos).\n",
    "\n",
    "\n",
    "\n",
    "#### Relevancia del Estudio\n",
    "\n",
    "El estudio subraya la importancia del etiquetado de raza y las percepciones públicas en la duración de la estancia y las tasas de adopción de los perros tipo Pit-Bull. Estas percepciones pueden influir en el tiempo que un perro pasa en el centro de rescate, haciendo de estos datos una base invaluable para nuestro modelo predictivo.\n",
    "\n",
    "#### Procedimiento de Obtención\n",
    "\n",
    "Los datos fueron descargados directamente del repositorio Harvard Dataverse, asegurando su integridad y autenticidad."
   ]
  },
  {
   "cell_type": "markdown",
   "metadata": {},
   "source": [
    "    Artículo del estudio: \n",
    "https://journals.plos.org/plosone/article?id=10.1371/journal.pone.0146857"
   ]
  },
  {
   "cell_type": "markdown",
   "metadata": {},
   "source": [
    "    Cita:\n",
    "Gunter, Lisa M.; Barber, Rebecca T.; Wynn, Clive D. L., 2018, \"Replication Data for: What’s in a Name? Effect of Breed Perceptions & Labeling on Attractiveness, Adoptions & Length of Stay for Pit-Bull-Type Dogs\", https://doi.org/10.7910/DVN/CSVGZO, Harvard Dataverse, V1, UNF:6:tkJPXhAM6DAX8ihOOW8YSg== [fileUNF] "
   ]
  }
 ],
 "metadata": {
  "kernelspec": {
   "display_name": "Python 3",
   "language": "python",
   "name": "python3"
  },
  "language_info": {
   "codemirror_mode": {
    "name": "ipython",
    "version": 3
   },
   "file_extension": ".py",
   "mimetype": "text/x-python",
   "name": "python",
   "nbconvert_exporter": "python",
   "pygments_lexer": "ipython3",
   "version": "3.12.2"
  }
 },
 "nbformat": 4,
 "nbformat_minor": 2
}
