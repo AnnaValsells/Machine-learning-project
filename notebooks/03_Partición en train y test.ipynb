{
 "cells": [
  {
   "cell_type": "code",
   "execution_count": 2,
   "metadata": {},
   "outputs": [],
   "source": [
    "import pandas as pd\n",
    "from sklearn.model_selection import train_test_split"
   ]
  },
  {
   "cell_type": "code",
   "execution_count": 3,
   "metadata": {},
   "outputs": [],
   "source": [
    "# Importo el data limpio\n",
    "\n",
    "data = pd.read_csv('../data/S4-KCCA_clean.csv')"
   ]
  },
  {
   "cell_type": "code",
   "execution_count": 4,
   "metadata": {},
   "outputs": [],
   "source": [
    "# Parto el data en train (80%) y test(20%)\n",
    "\n",
    "train_set, test_set = train_test_split(data, test_size = 0.2, stratify = data[\"OutcomeGroup\"], random_state = 42)"
   ]
  },
  {
   "cell_type": "markdown",
   "metadata": {},
   "source": [
    "--> Me parece interesante estratificar por \"OutcomeGroup\" disponiendo de esta información extra. Aunque va a ser una Feature que no vamos a usar, tenemos la misma proporción de animales adoptados, muertos o perdidos en los dos sets. "
   ]
  },
  {
   "cell_type": "code",
   "execution_count": 8,
   "metadata": {},
   "outputs": [
    {
     "data": {
      "text/plain": [
       "OutcomeGroup\n",
       "Adopt/Live Exit       0.638496\n",
       "Euthanized/Dead       0.240979\n",
       "Lost/Found/Missing    0.120525\n",
       "Name: proportion, dtype: float64"
      ]
     },
     "execution_count": 8,
     "metadata": {},
     "output_type": "execute_result"
    }
   ],
   "source": [
    "train_set['OutcomeGroup'].value_counts(normalize=True)"
   ]
  },
  {
   "cell_type": "code",
   "execution_count": 9,
   "metadata": {},
   "outputs": [
    {
     "data": {
      "text/plain": [
       "OutcomeGroup\n",
       "Adopt/Live Exit       0.638451\n",
       "Euthanized/Dead       0.241033\n",
       "Lost/Found/Missing    0.120516\n",
       "Name: proportion, dtype: float64"
      ]
     },
     "execution_count": 9,
     "metadata": {},
     "output_type": "execute_result"
    }
   ],
   "source": [
    "test_set['OutcomeGroup'].value_counts(normalize=True)"
   ]
  },
  {
   "cell_type": "code",
   "execution_count": 11,
   "metadata": {},
   "outputs": [],
   "source": [
    "# Guardo el train_set:\n",
    "\n",
    "train_set.to_csv('../data/TRAIN_S4-KCCA.csv', index=False)"
   ]
  },
  {
   "cell_type": "code",
   "execution_count": 12,
   "metadata": {},
   "outputs": [],
   "source": [
    "# Guardo el test_set:\n",
    "\n",
    "test_set.to_csv('../data/TEST_S4-KCCA.csv', index=False)"
   ]
  }
 ],
 "metadata": {
  "kernelspec": {
   "display_name": "Python 3",
   "language": "python",
   "name": "python3"
  },
  "language_info": {
   "codemirror_mode": {
    "name": "ipython",
    "version": 3
   },
   "file_extension": ".py",
   "mimetype": "text/x-python",
   "name": "python",
   "nbconvert_exporter": "python",
   "pygments_lexer": "ipython3",
   "version": "3.12.2"
  }
 },
 "nbformat": 4,
 "nbformat_minor": 2
}
